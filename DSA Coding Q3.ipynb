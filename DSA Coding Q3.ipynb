{
 "cells": [
  {
   "cell_type": "code",
   "execution_count": 3,
   "id": "d4c30d3b",
   "metadata": {},
   "outputs": [
    {
     "name": "stdout",
     "output_type": "stream",
     "text": [
      "Enter a number: 567\n",
      "765\n"
     ]
    }
   ],
   "source": [
    "#3)Take a number as input from the user. Print the number in reversed order. For example, for input 567, output should be: 765\n",
    "def reverse(number):\n",
    "    y=0\n",
    "    while(number>=1):\n",
    "        z = number % 10\n",
    "        y = 10 * y + z\n",
    "        number = number / 10\n",
    "        number = int(number)\n",
    "    return y\n",
    "Number=int(input(\"Enter a number: \"))\n",
    "print(reverse(Number))"
   ]
  },
  {
   "cell_type": "code",
   "execution_count": null,
   "id": "155bda52",
   "metadata": {},
   "outputs": [],
   "source": []
  },
  {
   "cell_type": "code",
   "execution_count": null,
   "id": "6274e90b",
   "metadata": {},
   "outputs": [],
   "source": []
  }
 ],
 "metadata": {
  "kernelspec": {
   "display_name": "Python 3 (ipykernel)",
   "language": "python",
   "name": "python3"
  },
  "language_info": {
   "codemirror_mode": {
    "name": "ipython",
    "version": 3
   },
   "file_extension": ".py",
   "mimetype": "text/x-python",
   "name": "python",
   "nbconvert_exporter": "python",
   "pygments_lexer": "ipython3",
   "version": "3.9.12"
  }
 },
 "nbformat": 4,
 "nbformat_minor": 5
}
